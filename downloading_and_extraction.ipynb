{
  "nbformat": 4,
  "nbformat_minor": 0,
  "metadata": {
    "colab": {
      "provenance": []
    },
    "kernelspec": {
      "name": "python3",
      "display_name": "Python 3"
    },
    "language_info": {
      "name": "python"
    }
  },
  "cells": [
    {
      "cell_type": "code",
      "execution_count": 1,
      "metadata": {
        "id": "ah9TvirW7apN",
        "colab": {
          "base_uri": "https://localhost:8080/"
        },
        "collapsed": true,
        "outputId": "71c96df2-b44b-49c7-bb9b-f98af0498225"
      },
      "outputs": [
        {
          "output_type": "stream",
          "name": "stdout",
          "text": [
            "Collecting landsatxplore\n",
            "  Downloading landsatxplore-0.15.0-py3-none-any.whl.metadata (7.9 kB)\n",
            "Requirement already satisfied: folium in /usr/local/lib/python3.10/dist-packages (0.17.0)\n",
            "Collecting rasterio\n",
            "  Downloading rasterio-1.4.1-cp310-cp310-manylinux_2_17_x86_64.manylinux2014_x86_64.whl.metadata (9.1 kB)\n",
            "Requirement already satisfied: geopandas in /usr/local/lib/python3.10/dist-packages (1.0.1)\n",
            "Collecting pylandtemp\n",
            "  Downloading pylandtemp-0.0.1a1-py3-none-any.whl.metadata (2.9 kB)\n",
            "Collecting click<8.0,>=7.1 (from landsatxplore)\n",
            "  Downloading click-7.1.2-py2.py3-none-any.whl.metadata (2.9 kB)\n",
            "Requirement already satisfied: python-dateutil<3.0,>=2.8 in /usr/local/lib/python3.10/dist-packages (from landsatxplore) (2.8.2)\n",
            "Requirement already satisfied: requests<3.0,>=2.20 in /usr/local/lib/python3.10/dist-packages (from landsatxplore) (2.32.3)\n",
            "Collecting shapely<2.0,>=1.7 (from landsatxplore)\n",
            "  Downloading Shapely-1.8.5.post1-cp310-cp310-manylinux_2_12_x86_64.manylinux2010_x86_64.whl.metadata (43 kB)\n",
            "\u001b[2K     \u001b[90m━━━━━━━━━━━━━━━━━━━━━━━━━━━━━━━━━━━━━━━━\u001b[0m \u001b[32m43.1/43.1 kB\u001b[0m \u001b[31m1.7 MB/s\u001b[0m eta \u001b[36m0:00:00\u001b[0m\n",
            "\u001b[?25hRequirement already satisfied: tqdm<5.0,>=4.58 in /usr/local/lib/python3.10/dist-packages (from landsatxplore) (4.66.5)\n",
            "Requirement already satisfied: branca>=0.6.0 in /usr/local/lib/python3.10/dist-packages (from folium) (0.8.0)\n",
            "Requirement already satisfied: jinja2>=2.9 in /usr/local/lib/python3.10/dist-packages (from folium) (3.1.4)\n",
            "Requirement already satisfied: numpy in /usr/local/lib/python3.10/dist-packages (from folium) (1.26.4)\n",
            "Requirement already satisfied: xyzservices in /usr/local/lib/python3.10/dist-packages (from folium) (2024.9.0)\n",
            "Collecting affine (from rasterio)\n",
            "  Downloading affine-2.4.0-py3-none-any.whl.metadata (4.0 kB)\n",
            "Requirement already satisfied: attrs in /usr/local/lib/python3.10/dist-packages (from rasterio) (24.2.0)\n",
            "Requirement already satisfied: certifi in /usr/local/lib/python3.10/dist-packages (from rasterio) (2024.8.30)\n",
            "Collecting cligj>=0.5 (from rasterio)\n",
            "  Downloading cligj-0.7.2-py3-none-any.whl.metadata (5.0 kB)\n",
            "Collecting click-plugins (from rasterio)\n",
            "  Downloading click_plugins-1.1.1-py2.py3-none-any.whl.metadata (6.4 kB)\n",
            "Requirement already satisfied: pyparsing in /usr/local/lib/python3.10/dist-packages (from rasterio) (3.1.4)\n",
            "Requirement already satisfied: pyogrio>=0.7.2 in /usr/local/lib/python3.10/dist-packages (from geopandas) (0.10.0)\n",
            "Requirement already satisfied: packaging in /usr/local/lib/python3.10/dist-packages (from geopandas) (24.1)\n",
            "Requirement already satisfied: pandas>=1.4.0 in /usr/local/lib/python3.10/dist-packages (from geopandas) (2.2.2)\n",
            "Requirement already satisfied: pyproj>=3.3.0 in /usr/local/lib/python3.10/dist-packages (from geopandas) (3.7.0)\n",
            "INFO: pip is looking at multiple versions of geopandas to determine which version is compatible with other requirements. This could take a while.\n",
            "Collecting geopandas\n",
            "  Downloading geopandas-1.0.0-py3-none-any.whl.metadata (2.2 kB)\n",
            "  Downloading geopandas-0.14.4-py3-none-any.whl.metadata (1.5 kB)\n",
            "Collecting fiona>=1.8.21 (from geopandas)\n",
            "  Downloading fiona-1.10.1-cp310-cp310-manylinux_2_17_x86_64.manylinux2014_x86_64.whl.metadata (56 kB)\n",
            "\u001b[2K     \u001b[90m━━━━━━━━━━━━━━━━━━━━━━━━━━━━━━━━━━━━━━━━\u001b[0m \u001b[32m56.6/56.6 kB\u001b[0m \u001b[31m5.0 MB/s\u001b[0m eta \u001b[36m0:00:00\u001b[0m\n",
            "\u001b[?25hINFO: pip is looking at multiple versions of fiona to determine which version is compatible with other requirements. This could take a while.\n",
            "  Downloading fiona-1.10.0-cp310-cp310-manylinux_2_17_x86_64.manylinux2014_x86_64.whl.metadata (56 kB)\n",
            "\u001b[2K     \u001b[90m━━━━━━━━━━━━━━━━━━━━━━━━━━━━━━━━━━━━━━━━\u001b[0m \u001b[32m56.4/56.4 kB\u001b[0m \u001b[31m5.5 MB/s\u001b[0m eta \u001b[36m0:00:00\u001b[0m\n",
            "\u001b[?25h  Downloading fiona-1.9.6-cp310-cp310-manylinux2014_x86_64.whl.metadata (50 kB)\n",
            "\u001b[2K     \u001b[90m━━━━━━━━━━━━━━━━━━━━━━━━━━━━━━━━━━━━━━━━\u001b[0m \u001b[32m50.2/50.2 kB\u001b[0m \u001b[31m4.4 MB/s\u001b[0m eta \u001b[36m0:00:00\u001b[0m\n",
            "\u001b[?25h  Downloading fiona-1.9.5-cp310-cp310-manylinux2014_x86_64.whl.metadata (49 kB)\n",
            "\u001b[2K     \u001b[90m━━━━━━━━━━━━━━━━━━━━━━━━━━━━━━━━━━━━━━━━\u001b[0m \u001b[32m49.7/49.7 kB\u001b[0m \u001b[31m4.9 MB/s\u001b[0m eta \u001b[36m0:00:00\u001b[0m\n",
            "\u001b[?25h  Downloading Fiona-1.9.4.post1-cp310-cp310-manylinux_2_17_x86_64.manylinux2014_x86_64.whl.metadata (49 kB)\n",
            "\u001b[2K     \u001b[90m━━━━━━━━━━━━━━━━━━━━━━━━━━━━━━━━━━━━━━━━\u001b[0m \u001b[32m49.3/49.3 kB\u001b[0m \u001b[31m4.6 MB/s\u001b[0m eta \u001b[36m0:00:00\u001b[0m\n",
            "\u001b[?25h  Downloading Fiona-1.9.4-cp310-cp310-manylinux_2_17_x86_64.manylinux2014_x86_64.whl.metadata (49 kB)\n",
            "\u001b[2K     \u001b[90m━━━━━━━━━━━━━━━━━━━━━━━━━━━━━━━━━━━━━━━━\u001b[0m \u001b[32m49.1/49.1 kB\u001b[0m \u001b[31m4.6 MB/s\u001b[0m eta \u001b[36m0:00:00\u001b[0m\n",
            "\u001b[?25h  Downloading Fiona-1.9.3-cp310-cp310-manylinux_2_17_x86_64.manylinux2014_x86_64.whl.metadata (48 kB)\n",
            "\u001b[2K     \u001b[90m━━━━━━━━━━━━━━━━━━━━━━━━━━━━━━━━━━━━━━━━\u001b[0m \u001b[32m48.2/48.2 kB\u001b[0m \u001b[31m4.4 MB/s\u001b[0m eta \u001b[36m0:00:00\u001b[0m\n",
            "\u001b[?25h  Downloading Fiona-1.9.2-cp310-cp310-manylinux_2_17_x86_64.manylinux2014_x86_64.whl.metadata (47 kB)\n",
            "\u001b[2K     \u001b[90m━━━━━━━━━━━━━━━━━━━━━━━━━━━━━━━━━━━━━━━━\u001b[0m \u001b[32m47.6/47.6 kB\u001b[0m \u001b[31m4.1 MB/s\u001b[0m eta \u001b[36m0:00:00\u001b[0m\n",
            "\u001b[?25hINFO: pip is still looking at multiple versions of fiona to determine which version is compatible with other requirements. This could take a while.\n",
            "  Downloading Fiona-1.9.1-cp310-cp310-manylinux_2_17_x86_64.manylinux2014_x86_64.whl.metadata (47 kB)\n",
            "\u001b[2K     \u001b[90m━━━━━━━━━━━━━━━━━━━━━━━━━━━━━━━━━━━━━━━━\u001b[0m \u001b[32m47.0/47.0 kB\u001b[0m \u001b[31m4.0 MB/s\u001b[0m eta \u001b[36m0:00:00\u001b[0m\n",
            "\u001b[?25h  Downloading Fiona-1.9.0-cp310-cp310-manylinux_2_17_x86_64.manylinux2014_x86_64.whl.metadata (46 kB)\n",
            "\u001b[2K     \u001b[90m━━━━━━━━━━━━━━━━━━━━━━━━━━━━━━━━━━━━━━━━\u001b[0m \u001b[32m46.7/46.7 kB\u001b[0m \u001b[31m4.2 MB/s\u001b[0m eta \u001b[36m0:00:00\u001b[0m\n",
            "\u001b[?25h  Downloading Fiona-1.8.22-cp310-cp310-manylinux_2_17_x86_64.manylinux2014_x86_64.whl.metadata (50 kB)\n",
            "\u001b[2K     \u001b[90m━━━━━━━━━━━━━━━━━━━━━━━━━━━━━━━━━━━━━━━━\u001b[0m \u001b[32m50.3/50.3 kB\u001b[0m \u001b[31m4.3 MB/s\u001b[0m eta \u001b[36m0:00:00\u001b[0m\n",
            "\u001b[?25hRequirement already satisfied: six>=1.7 in /usr/local/lib/python3.10/dist-packages (from fiona>=1.8.21->geopandas) (1.16.0)\n",
            "Collecting munch (from fiona>=1.8.21->geopandas)\n",
            "  Downloading munch-4.0.0-py2.py3-none-any.whl.metadata (5.9 kB)\n",
            "Requirement already satisfied: setuptools in /usr/local/lib/python3.10/dist-packages (from fiona>=1.8.21->geopandas) (71.0.4)\n",
            "Requirement already satisfied: MarkupSafe>=2.0 in /usr/local/lib/python3.10/dist-packages (from jinja2>=2.9->folium) (2.1.5)\n",
            "Requirement already satisfied: pytz>=2020.1 in /usr/local/lib/python3.10/dist-packages (from pandas>=1.4.0->geopandas) (2024.2)\n",
            "Requirement already satisfied: tzdata>=2022.7 in /usr/local/lib/python3.10/dist-packages (from pandas>=1.4.0->geopandas) (2024.2)\n",
            "Requirement already satisfied: charset-normalizer<4,>=2 in /usr/local/lib/python3.10/dist-packages (from requests<3.0,>=2.20->landsatxplore) (3.3.2)\n",
            "Requirement already satisfied: idna<4,>=2.5 in /usr/local/lib/python3.10/dist-packages (from requests<3.0,>=2.20->landsatxplore) (3.10)\n",
            "Requirement already satisfied: urllib3<3,>=1.21.1 in /usr/local/lib/python3.10/dist-packages (from requests<3.0,>=2.20->landsatxplore) (2.2.3)\n",
            "Downloading landsatxplore-0.15.0-py3-none-any.whl (15 kB)\n",
            "Downloading rasterio-1.4.1-cp310-cp310-manylinux_2_17_x86_64.manylinux2014_x86_64.whl (22.2 MB)\n",
            "\u001b[2K   \u001b[90m━━━━━━━━━━━━━━━━━━━━━━━━━━━━━━━━━━━━━━━━\u001b[0m \u001b[32m22.2/22.2 MB\u001b[0m \u001b[31m56.3 MB/s\u001b[0m eta \u001b[36m0:00:00\u001b[0m\n",
            "\u001b[?25hDownloading geopandas-0.14.4-py3-none-any.whl (1.1 MB)\n",
            "\u001b[2K   \u001b[90m━━━━━━━━━━━━━━━━━━━━━━━━━━━━━━━━━━━━━━━━\u001b[0m \u001b[32m1.1/1.1 MB\u001b[0m \u001b[31m35.5 MB/s\u001b[0m eta \u001b[36m0:00:00\u001b[0m\n",
            "\u001b[?25hDownloading pylandtemp-0.0.1a1-py3-none-any.whl (19 kB)\n",
            "Downloading click-7.1.2-py2.py3-none-any.whl (82 kB)\n",
            "\u001b[2K   \u001b[90m━━━━━━━━━━━━━━━━━━━━━━━━━━━━━━━━━━━━━━━━\u001b[0m \u001b[32m82.8/82.8 kB\u001b[0m \u001b[31m7.5 MB/s\u001b[0m eta \u001b[36m0:00:00\u001b[0m\n",
            "\u001b[?25hDownloading cligj-0.7.2-py3-none-any.whl (7.1 kB)\n",
            "Downloading Fiona-1.8.22-cp310-cp310-manylinux_2_17_x86_64.manylinux2014_x86_64.whl (16.6 MB)\n",
            "\u001b[2K   \u001b[90m━━━━━━━━━━━━━━━━━━━━━━━━━━━━━━━━━━━━━━━━\u001b[0m \u001b[32m16.6/16.6 MB\u001b[0m \u001b[31m40.3 MB/s\u001b[0m eta \u001b[36m0:00:00\u001b[0m\n",
            "\u001b[?25hDownloading click_plugins-1.1.1-py2.py3-none-any.whl (7.5 kB)\n",
            "Downloading Shapely-1.8.5.post1-cp310-cp310-manylinux_2_12_x86_64.manylinux2010_x86_64.whl (2.0 MB)\n",
            "\u001b[2K   \u001b[90m━━━━━━━━━━━━━━━━━━━━━━━━━━━━━━━━━━━━━━━━\u001b[0m \u001b[32m2.0/2.0 MB\u001b[0m \u001b[31m57.0 MB/s\u001b[0m eta \u001b[36m0:00:00\u001b[0m\n",
            "\u001b[?25hDownloading affine-2.4.0-py3-none-any.whl (15 kB)\n",
            "Downloading munch-4.0.0-py2.py3-none-any.whl (9.9 kB)\n",
            "Installing collected packages: shapely, pylandtemp, munch, click, affine, landsatxplore, cligj, click-plugins, rasterio, fiona, geopandas\n",
            "  Attempting uninstall: shapely\n",
            "    Found existing installation: shapely 2.0.6\n",
            "    Uninstalling shapely-2.0.6:\n",
            "      Successfully uninstalled shapely-2.0.6\n",
            "  Attempting uninstall: click\n",
            "    Found existing installation: click 8.1.7\n",
            "    Uninstalling click-8.1.7:\n",
            "      Successfully uninstalled click-8.1.7\n",
            "  Attempting uninstall: geopandas\n",
            "    Found existing installation: geopandas 1.0.1\n",
            "    Uninstalling geopandas-1.0.1:\n",
            "      Successfully uninstalled geopandas-1.0.1\n",
            "\u001b[31mERROR: pip's dependency resolver does not currently take into account all the packages that are installed. This behaviour is the source of the following dependency conflicts.\n",
            "flask 2.2.5 requires click>=8.0, but you have click 7.1.2 which is incompatible.\n",
            "dask 2024.8.0 requires click>=8.1, but you have click 7.1.2 which is incompatible.\n",
            "distributed 2024.8.0 requires click>=8.0, but you have click 7.1.2 which is incompatible.\n",
            "pip-tools 7.4.1 requires click>=8, but you have click 7.1.2 which is incompatible.\n",
            "typer 0.12.5 requires click>=8.0.0, but you have click 7.1.2 which is incompatible.\u001b[0m\u001b[31m\n",
            "\u001b[0mSuccessfully installed affine-2.4.0 click-7.1.2 click-plugins-1.1.1 cligj-0.7.2 fiona-1.8.22 geopandas-0.14.4 landsatxplore-0.15.0 munch-4.0.0 pylandtemp-0.0.1a1 rasterio-1.4.1 shapely-1.8.5.post1\n"
          ]
        }
      ],
      "source": [
        "# installing all the required libraries\n",
        "!pip install landsatxplore folium rasterio geopandas pylandtemp"
      ]
    },
    {
      "cell_type": "markdown",
      "source": [
        "The landsatxplore library is a Python package designed to facilitate the search\n",
        "and download of Landsat satellite imagery from the USGS EarthExplorer portal.\n",
        "This library allows users to programmatically search for Landsat data based on\n",
        "specific criteria such as date range,cloud cover percentage, location, and specific\n",
        "Landsat missions (e.g., Landsat 8, Landsat 9). It also provides an interface to\n",
        "download the selected imagery directly, simplifying the process of acquiring\n",
        "satellite data for analysis.\n",
        "\n",
        "1. rasterio is used to read the rasters\n",
        "2. numpy is often used in processing raster data for operations like mathematical transformations or array manipulations.\n",
        "3. matplotlib for visullisation"
      ],
      "metadata": {
        "id": "EYGYS4AX70hT"
      }
    },
    {
      "cell_type": "code",
      "source": [
        "from google.colab import drive\n",
        "drive.mount('/content/drive')"
      ],
      "metadata": {
        "id": "Z_QcfoGd75A8",
        "colab": {
          "base_uri": "https://localhost:8080/"
        },
        "outputId": "6e562a9f-85f0-473b-8ef3-3e3383396fea"
      },
      "execution_count": 2,
      "outputs": [
        {
          "output_type": "stream",
          "name": "stdout",
          "text": [
            "Mounted at /content/drive\n"
          ]
        }
      ]
    },
    {
      "cell_type": "markdown",
      "source": [
        "Mounting the google drive: In order to add the shapefile of our Area of interest(NCT of Delhi in this case), that is saved in Google Drive."
      ],
      "metadata": {
        "id": "iaUqcHZL8JSw"
      }
    },
    {
      "cell_type": "code",
      "source": [
        "# this code prompts user to enter your USGS credentials\n",
        "# allows to select a scene with date info\n",
        "\n",
        "from landsatxplore.api import API\n",
        "from landsatxplore.earthexplorer import EarthExplorer\n",
        "import getpass\n",
        "import os\n",
        "from datetime import datetime, timedelta\n",
        "\n",
        "# Prompt user for username and password (password input is hidden)\n",
        "username = input(\"Enter your EarthExplorer username: \")\n",
        "password = getpass.getpass(\"Enter your EarthExplorer password: \")\n",
        "\n",
        "# Initialize a new API instance and get an API key\n",
        "api = API(username, password)\n",
        "\n",
        "# Search for Landsat 8/9 scenes in the specified date range\n",
        "scenes = api.search(\n",
        "    dataset='landsat_ot_c2_l1',  # dataset identifier for Landsat 8/9 Collection 2 Level 1 data\n",
        "    latitude=28.6139,\n",
        "    longitude=77.2090,\n",
        "    start_date='2023-05-15',\n",
        "    end_date='2023-06-15',\n",
        "    max_cloud_cover=20\n",
        ")\n",
        "\n",
        "# Print the number of scenes found\n",
        "print(f\"{len(scenes)} scenes found.\")\n",
        "\n",
        "# Function to convert Julian Day to a date\n",
        "def julian_day_to_date(year, julian_day):\n",
        "    return datetime(year, 1, 1) + timedelta(days=julian_day - 1)\n",
        "\n",
        "# Display the list of scenes for user selection\n",
        "print(\"\\nAvailable Scenes:\")\n",
        "for index, scene in enumerate(scenes):\n",
        "    display_id = scene.get('displayId', scene['entity_id'])\n",
        "\n",
        "    # Extract the year and Julian Day from displayId\n",
        "    year = int(display_id[9:13])\n",
        "    julian_day = int(display_id[13:16])\n",
        "\n",
        "    # Convert Julian Day to standard date\n",
        "    acquisition_date = julian_day_to_date(year, julian_day).strftime('%Y-%m-%d')\n",
        "\n",
        "    print(f\"{index + 1}. {display_id} - {acquisition_date}\")\n",
        "\n",
        "# Prompt the user to select which scenes to download\n",
        "selected_indices = input(\"\\nEnter the numbers of the scenes you want to download (comma-separated): \")\n",
        "selected_indices = [int(i.strip()) - 1 for i in selected_indices.split(',')]\n",
        "\n",
        "# Initialize a new EarthExplorer instance\n",
        "ee = EarthExplorer(username, password)\n",
        "\n",
        "# Download each selected scene\n",
        "output_dir = '/content/landsat8_data'\n",
        "if not os.path.exists(output_dir):\n",
        "    os.makedirs(output_dir)\n",
        "\n",
        "for index in selected_indices:\n",
        "    scene = scenes[index]\n",
        "    entity_id = scene['entity_id']\n",
        "    display_id = scene.get('displayId', entity_id)\n",
        "\n",
        "    print(f\"Downloading all files for {display_id}...\")\n",
        "\n",
        "    # Download the entire scene\n",
        "    ee.download(entity_id, output_dir)\n",
        "\n",
        "# Logout from EarthExplorer\n",
        "ee.logout()\n",
        "\n",
        "# Logout from the API\n",
        "api.logout()"
      ],
      "metadata": {
        "id": "QKsSCb1V9qBJ",
        "colab": {
          "base_uri": "https://localhost:8080/"
        },
        "collapsed": true,
        "outputId": "997311bb-49f1-41e0-d3b7-c1bbbdbffdb1"
      },
      "execution_count": 5,
      "outputs": [
        {
          "output_type": "stream",
          "name": "stdout",
          "text": [
            "Enter your EarthExplorer username: adscorpmail\n",
            "Enter your EarthExplorer password: ··········\n",
            "3 scenes found.\n",
            "\n",
            "Available Scenes:\n",
            "1. LC81460402023161LGN00 - 2023-06-10\n",
            "2. LC91470402023160LGN03 - 2023-06-09\n",
            "3. LC91460402023153LGN00 - 2023-06-02\n",
            "\n",
            "Enter the numbers of the scenes you want to download (comma-separated): 3\n",
            "Downloading all files for LC91460402023153LGN00...\n",
            "Download failed with dataset id 1 of 2. Re-trying with the next one.\n"
          ]
        },
        {
          "output_type": "stream",
          "name": "stderr",
          "text": [
            "100%|██████████| 1.22G/1.22G [01:19<00:00, 16.5MB/s]\n"
          ]
        }
      ]
    },
    {
      "cell_type": "markdown",
      "source": [
        "This script allows users to download Landsat data from the USGS EarthExplorer platform. It begins by prompting for user credentials, a date range, maximum cloud cover, and geographical coordinates. After initializing the API and searching for relevant scenes based on these inputs, it displays the available scenes for the user to select from. The user then chooses which scenes to download. The script downloads the selected scenes to a specified directory, and finally, it logs out of both the EarthExplorer and API sessions to ensure secure termination.\n",
        "\n",
        "Note: change the values of `latitude,longitude,start_date,end_date,max_cloud_cover` as per your requirement."
      ],
      "metadata": {
        "id": "oWvOwrSE-JwL"
      }
    },
    {
      "cell_type": "code",
      "source": [
        "\n",
        "# for extracting tar file in the colab itself\n",
        "\n",
        "import tarfile\n",
        "import os\n",
        "\n",
        "# Define the path to the .tar file\n",
        "tar_file_path = '/content/landsat8_data/LC09_L1TP_146040_20230602_20230602_02_T1.tar'\n",
        "\n",
        "# Define the extraction directory\n",
        "extraction_path = '/content/extracted_files/'\n",
        "\n",
        "# Create the extraction directory if it doesn't exist\n",
        "if not os.path.exists(extraction_path):\n",
        "    os.makedirs(extraction_path)\n",
        "\n",
        "# Open the .tar file and extract all its contents\n",
        "with tarfile.open(tar_file_path, 'r') as tar_file:\n",
        "    tar_file.extractall(path=extraction_path)\n",
        "\n",
        "print(f'Files extracted to {extraction_path}')\n"
      ],
      "metadata": {
        "id": "21GCFOqP-PN0",
        "colab": {
          "base_uri": "https://localhost:8080/"
        },
        "outputId": "2ab53852-4efd-44d0-e6ad-fb12e55c9c55"
      },
      "execution_count": 6,
      "outputs": [
        {
          "output_type": "stream",
          "name": "stdout",
          "text": [
            "Files extracted to /content/extracted_files/\n"
          ]
        }
      ]
    },
    {
      "cell_type": "markdown",
      "source": [
        "This code extracts the contents of a .tar file in Google Colab. It imports the tarfile and os modules to handle file extraction and directory operations. The path to the .tar file (tar_file_path) and the extraction directory (extraction_path) are defined. The script checks if the extraction directory exists, creating it if necessary. It then opens the .tar file in read mode and extracts all files to the specified directory using tarfile.open() and extractall(). Finally, it prints a message confirming the files have been extracted to the specified location.\n",
        "\n",
        "Note: before executing the code, copy the file path of .tar file dowloaded in the landsat folder, and paste it in the `tar_file_path`."
      ],
      "metadata": {
        "id": "jsWzklQ7-UbT"
      }
    }
  ]
}